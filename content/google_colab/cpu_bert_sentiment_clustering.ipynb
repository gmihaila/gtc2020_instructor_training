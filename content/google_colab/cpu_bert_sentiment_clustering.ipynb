{
  "nbformat": 4,
  "nbformat_minor": 0,
  "metadata": {
    "colab": {
      "name": "cpu_bert_sentiment_clustering.ipynb",
      "provenance": [],
      "collapsed_sections": [],
      "toc_visible": true,
      "include_colab_link": true
    },
    "kernelspec": {
      "name": "python3",
      "display_name": "Python 3"
    }
  },
  "cells": [
    {
      "cell_type": "markdown",
      "metadata": {
        "id": "view-in-github",
        "colab_type": "text"
      },
      "source": [
        "<a href=\"https://colab.research.google.com/github/gmihaila/gtc2020_instructor_training/blob/master/content/google_colab/cpu_bert_sentiment_clustering.ipynb\" target=\"_parent\"><img src=\"https://colab.research.google.com/assets/colab-badge.svg\" alt=\"Open In Colab\"/></a>"
      ]
    },
    {
      "cell_type": "markdown",
      "metadata": {
        "id": "VQDRIYnkD9wJ",
        "colab_type": "text"
      },
      "source": [
        "##### 2020 George Mihaila."
      ]
    },
    {
      "cell_type": "markdown",
      "metadata": {
        "id": "QbjiCdocEMTq",
        "colab_type": "text"
      },
      "source": [
        "# GPUs in Natural Language Processing\n",
        "\n",
        "\n",
        "<td>\n",
        "    <a target=\"_blank\" href=\"https://colab.research.google.com/github/gmihaila/gtc2020_instructor_training/blob/master/content/bert_sentiment_clustering.ipynb\"><img src=\"https://www.tensorflow.org/images/colab_logo_32px.png\" />Run in Google Colab</a>\n",
        "</td>\n",
        "<td>\n",
        "  <a target=\"_blank\" href=\"https://github.com/gmihaila/gtc2020_instructor_training.git\"><img src=\"https://www.tensorflow.org/images/GitHub-Mark-32px.png\" />View source on GitHub</a>\n",
        "</td>\n",
        "</br>\n",
        "\n",
        "The main purpose of this tutorial is to target a particular Natural Language Processing (NLP) problem, in this case Sentiment Analysis, and use GPUs for great speedup.\n",
        "\n",
        "Walkthoughs:\n",
        "\n",
        "### Dataset used:\n",
        "* [IMDB moview reviews sentiment dataset](http://ai.stanford.edu/%7Eamaas/data/sentiment/): This is a dataset for binary sentiment classification containing a set of **25,000** highly polar movie reviews for training, and **25,000** for testing. For this tutorial we will combine the train and test data for a total of **50,000 movies reviews** text data and their negative/positive labels.\n",
        "\n",
        "\n",
        "### Content:\n",
        "\n",
        " * Use Sentence Embeddings from pretrained state of the art language models, in this case **bert-base-nli-stsb-mean-tokens**, to transform text data data into fixed vector feratures of length **768 features**. Performing model inference using GPU.\n",
        " * Train small Neural Network and interpret model.\n",
        " * Use GPU to perform kmeans clustering on all 50,000 movies reviews.\n",
        " * Find the best splitting K using the Elbow method and Silhouette score.\n",
        " * Use k=2 on kmeans and plot the sentiments on both predicted clusters and true labels.\n",
        " * Observe the overlap between the predcited labels and true labels and asociate labels to clusters. Visualize the clusters.\n",
        " * Try to find a third sentiment using k=3. Observe the overlab between predicted labels and true labels. Visualize the clusters.\n",
        " * Repeat previous experiments using different k and observe predicitons overlp with true labels. Visualize the clusters.\n",
        " * Visualize samples of text that are predicted with various sentiments."
      ]
    },
    {
      "cell_type": "markdown",
      "metadata": {
        "id": "YDxMc7syFvGD",
        "colab_type": "text"
      },
      "source": [
        "## NLP - Fine-grained Sentiment Analysis\n",
        "\n",
        "For most cases sentiment classifiers are used in binary classification (just positive or negative sentiment). That is because fine-grained sentiment classification is a significantly more challenging task! \n",
        "\n",
        "The typical breakdown of fine-grained sentiment uses five discrete classes, as shown below. As one might imagine, models very easily err on either side of the strong/weak sentiment intensities thanks to the wonderful subtleties of human language.\n",
        "\n",
        "![alt text](https://miro.medium.com/max/705/1*ug8kyqUlnqEuo3LhHfNypg.png)\n",
        "\n",
        "Binary class labels may be sufficient for studying large-scale positive/negative sentiment trends in text data such as Tweets, product reviews or customer feedback, but they do have their limitations. \n",
        "\n",
        "When performing information extraction with comparative expressions, for example: \n",
        " * “This OnePlus model X is so much better than Samsung model X.” \n",
        "  * a fine-grained analysis can provide more precise results to an automated system that prioritizes addressing customer complaints. \n",
        "\n",
        " * “The location was truly disgusting ... but the people there were glorious.” \n",
        "  * dual-polarity sentences can confuse binary sentiment classifiers, leading to incorrect class predictions.\n",
        "\n",
        "[source](https://towardsdatascience.com/fine-grained-sentiment-analysis-in-python-part-1-2697bb111ed4)\n",
        "\n"
      ]
    },
    {
      "cell_type": "markdown",
      "metadata": {
        "id": "UYpvNT44DsmJ",
        "colab_type": "text"
      },
      "source": [
        "## Installs\n",
        "\n",
        "* [Sentence-Transformers](https://colab.research.google.com/drive/1rY7Ln6rEE1pOlfSHCYOVaqt8OvDO35J0#forceEdit=true&sandboxMode=true&scrollTo=scfLT2i0MLyD): wrapper around Hugging Face [transformers](https://github.com/huggingface/transformers) library and built for document embedding using state of the art language models like BERT or XLNET."
      ]
    },
    {
      "cell_type": "code",
      "metadata": {
        "id": "y9UIcfEBosEi",
        "colab_type": "code",
        "outputId": "61c5def1-a327-48ab-9fa9-12021c748c3e",
        "colab": {
          "base_uri": "https://localhost:8080/",
          "height": 53
        }
      },
      "source": [
        "# install sentence transfomers\n",
        "!pip install git+https://github.com/arvkevi/kneed --quiet # for graph knee detection\n",
        "!pip install git+https://github.com/UKPLab/sentence-transformers --quiet\n",
        "!pip install lime --quiet"
      ],
      "execution_count": 1,
      "outputs": [
        {
          "output_type": "stream",
          "text": [
            "  Building wheel for kneed (setup.py) ... \u001b[?25l\u001b[?25hdone\n",
            "  Building wheel for sentence-transformers (setup.py) ... \u001b[?25l\u001b[?25hdone\n"
          ],
          "name": "stdout"
        }
      ]
    },
    {
      "cell_type": "markdown",
      "metadata": {
        "id": "jklsQaCp2gsD",
        "colab_type": "text"
      },
      "source": [
        "## Downloads\n",
        "\n",
        "* **data/imdb_reviews_50k.csv** contains all movie revies and their sentiments:\n",
        "    \n",
        "* **data/movies_reviews_embeddings_part1.npy** and **data/movies_reviews_embeddings_part2.npy** contain BERT Embeddings of all `50,000` movie revies. They are saved in numpy format binary. \n",
        "   They are the output of running `SentenceTransformer` on all the text using `bert-base-nli-mean-tokens` pretrained model."
      ]
    },
    {
      "cell_type": "code",
      "metadata": {
        "id": "MPMjiItoJpFg",
        "colab_type": "code",
        "outputId": "f5d49d6d-6895-4f7a-ecb4-852dca698cf5",
        "colab": {
          "base_uri": "https://localhost:8080/",
          "height": 107
        }
      },
      "source": [
        "import os\n",
        "if not os.path.exists('imdb_reviews_50k.csv'):\n",
        "  # IMDB movie reviews\n",
        "  !wget https://raw.githubusercontent.com/gmihaila/gtc2020_instructor_training/master/data/imdb_reviews_50k.csv --quiet\n",
        "\n",
        "if not os.path.exists('imdb_reviews_subwords8k_text_features.pickle'):\n",
        "  # IMDB reviews text features\n",
        "  !wget https://github.com/gmihaila/gtc2020_instructor_training/raw/master/data/imdb_reviews_subwords8k_text_features.pickle --quiet\n",
        "\n",
        "if not os.path.exists('movies_reviews_embeddings_part1.npy'):\n",
        "  # IMDB reviews text features\n",
        "  !wget https://github.com/gmihaila/gtc2020_instructor_training/raw/master/data/movies_reviews_embeddings_part1.npy --quiet\n",
        "\n",
        "if not os.path.exists('movies_reviews_embeddings_part2.npy'):\n",
        "  # IMDB reviews text features\n",
        "  !wget https://github.com/gmihaila/gtc2020_instructor_training/raw/master/data/movies_reviews_embeddings_part2.npy --quiet\n",
        "!ls"
      ],
      "execution_count": 2,
      "outputs": [
        {
          "output_type": "stream",
          "text": [
            "imdb_reviews_50k.csv\n",
            "imdb_reviews_subwords8k_text_features.pickle\n",
            "movies_reviews_embeddings_part1.npy\n",
            "movies_reviews_embeddings_part2.npy\n",
            "sample_data\n"
          ],
          "name": "stdout"
        }
      ]
    },
    {
      "cell_type": "markdown",
      "metadata": {
        "id": "nIP99Yzd2kRz",
        "colab_type": "text"
      },
      "source": [
        "## Imports"
      ]
    },
    {
      "cell_type": "code",
      "metadata": {
        "id": "kU_q-1sO2lMc",
        "colab_type": "code",
        "outputId": "07544f36-a0d9-4838-edd8-b33893ec1df5",
        "colab": {
          "base_uri": "https://localhost:8080/",
          "height": 143
        }
      },
      "source": [
        "import torch\n",
        "## Load TF 2.0\n",
        "try:\n",
        "  # %tensorflow_version only exists in Colab.\n",
        "  %tensorflow_version 2.x\n",
        "except Exception:\n",
        "  pass\n",
        "import tensorflow as tf\n",
        "import numpy as np\n",
        "from collections import Counter\n",
        "import matplotlib.pyplot as plt\n",
        "from kneed import KneeLocator\n",
        "from sentence_transformers import SentenceTransformer\n",
        "from sklearn.metrics import silhouette_samples, silhouette_score\n",
        "import seaborn as sns\n",
        "import pandas as pd\n",
        "from nltk.corpus import stopwords \n",
        "import nltk\n",
        "import tensorflow_datasets as tfds\n",
        "from sklearn.model_selection import train_test_split\n",
        "import time\n",
        "from sklearn.metrics import classification_report\n",
        "from sklearn.metrics import accuracy_score\n",
        "from sklearn.cluster import KMeans\n",
        "from sklearn.decomposition import PCA\n",
        "from lime.lime_text import LimeTextExplainer\n",
        "\n",
        "\n",
        "nltk.download('stopwords')\n",
        "nltk.download('averaged_perceptron_tagger')\n",
        "\n",
        "\n",
        "pd.options.display.max_rows\n",
        "pd.set_option('display.max_colwidth', -1)\n",
        "\n",
        "ID_SENTIMENT = {0:'Negative',\n",
        "                1:'Positive'}\n",
        "\n",
        "PRETRAINED_MODEL = 'bert-base-nli-stsb-mean-tokens'"
      ],
      "execution_count": 3,
      "outputs": [
        {
          "output_type": "stream",
          "text": [
            "TensorFlow 2.x selected.\n",
            "[nltk_data] Downloading package stopwords to /root/nltk_data...\n",
            "[nltk_data]   Package stopwords is already up-to-date!\n",
            "[nltk_data] Downloading package averaged_perceptron_tagger to\n",
            "[nltk_data]     /root/nltk_data...\n",
            "[nltk_data]   Package averaged_perceptron_tagger is already up-to-\n",
            "[nltk_data]       date!\n"
          ],
          "name": "stdout"
        }
      ]
    },
    {
      "cell_type": "markdown",
      "metadata": {
        "id": "5pCGri5a2lgY",
        "colab_type": "text"
      },
      "source": [
        "## Functions"
      ]
    },
    {
      "cell_type": "code",
      "metadata": {
        "id": "ce5TrALAXVXW",
        "colab_type": "code",
        "colab": {}
      },
      "source": [
        "def plt_history(history_dict, \n",
        "                acc_key='accuracy', val_acc_key='val_accuracy', \n",
        "                loss_key='loss', val_loss_key='val_loss'):\n",
        "  acc = history_dict[acc_key]\n",
        "  val_acc = history_dict[val_acc_key]\n",
        "  loss = history_dict[loss_key]\n",
        "  val_loss = history_dict[val_loss_key]\n",
        "  epochs = range(1, len(acc) + 1)\n",
        "  plt.subplot(1, 2, 1)\n",
        "  # \"bo\" is for \"blue dot\"\n",
        "  plt.plot(epochs, loss, 'bo', label='Training loss')\n",
        "  # b is for \"solid blue line\"\n",
        "  plt.plot(epochs, val_loss, 'b', label='Validation loss')\n",
        "  plt.title('Training and validation loss')\n",
        "  plt.xlabel('Epochs')\n",
        "  plt.ylabel('Loss')\n",
        "  plt.legend()\n",
        "  plt.grid()\n",
        "  plt.tight_layout()\n",
        "  plt.xticks(epochs)\n",
        "\n",
        "\n",
        "  plt.subplot(1, 2, 2)\n",
        "  plt.plot(epochs, acc, 'bo', label='Training acc')\n",
        "  plt.plot(epochs, val_acc, 'b', label='Validation acc')\n",
        "  plt.title('Training and validation accuracy')\n",
        "  plt.xlabel('Epochs')\n",
        "  plt.ylabel('Accuracy')\n",
        "  plt.legend(loc='lower right')\n",
        "  plt.grid()\n",
        "  plt.tight_layout()\n",
        "  plt.xticks(epochs)\n",
        "  fig = plt.gcf()\n",
        "  fig.set_size_inches(15, 5)\n",
        "  plt.show()\n",
        "  return\n",
        "\n",
        "\n",
        "def predictions_overlap(model_predicitons, true_predicitons, label_decoder):\n",
        "  \"\"\"Find overlap between predicted labels that aren't associated with any actual classes\n",
        "  and actual classes.\n",
        "\n",
        "  \"\"\"\n",
        "  labels = list(set(model_predicitons))\n",
        "  print(\"Found labels: %s\\n\" % labels)\n",
        "  ## dicitonary with predicitons counts clusters\n",
        "  predictions = {label:[] for label in labels}\n",
        "  for true_label, pred_label in zip(true_predicitons, model_predicitons):\n",
        "    predictions[pred_label].append(true_label)\n",
        "  # data frame\n",
        "  matching_df = pd.DataFrame()\n",
        "  matching_df['labels'] = labels\n",
        "  matching_df['cluster_match'] = [\"  \".join([str(label_decoder[cluster])+\":\"+str(count) for cluster, count in Counter(predictions[label]).most_common()]) for label in labels]\n",
        "  return matching_df\n",
        "\n",
        "\n",
        "def clusters_words_plot(texts, labels, n_sentiments, pos_tag, top_clip=0, low_clip=20, stop_words=None, magnify=2):\n",
        "  # low_clip and top_clip are clips of the most frequent words to show\n",
        "  # pos_tag in ['VB', 'NN']\n",
        "  labels_texts = {n:[] for n in range(n_sentiments)}\n",
        "  for text, label in zip(texts, labels):\n",
        "    labels_texts[label].append(text)\n",
        "  for sentiment in range(n_sentiments):\n",
        "    # fit tokenizer on texts\n",
        "    tokenizer = tf.keras.preprocessing.text.Tokenizer()\n",
        "    tokenizer.fit_on_texts(texts=labels_texts[sentiment])\n",
        "    top_words = list(tokenizer.word_index.keys())\n",
        "    if pos_tag is not None: \n",
        "      top_words = nltk.pos_tag(tokens=top_words)\n",
        "      top_words = [val[0] for val in top_words if val[1]==pos_tag]\n",
        "    if stop_words is not None: top_words=[word for word in top_words if word not in stop_words]\n",
        "    # temporary Data Frame\n",
        "    tmp_df = pd.DataFrame()\n",
        "    tmp_df['words'] = top_words[top_clip:low_clip]\n",
        "    tmp_df['count'] = [tokenizer.word_counts[word] for word in top_words[top_clip:low_clip]]\n",
        "    # plot\n",
        "    ax = sns.barplot(x='words', y='count', data=tmp_df)\n",
        "    plt.xticks(\n",
        "        rotation=45, \n",
        "        horizontalalignment='right',\n",
        "        fontweight='light',\n",
        "        fontsize='x-large')\n",
        "    fig = plt.gcf()\n",
        "    ax.set_title('Words Counts Sentimen %s'%sentiment)\n",
        "    figsize = fig.get_size_inches()\n",
        "    fig.set_size_inches(figsize * magnify)\n",
        "    plt.show()\n",
        "  return\n",
        "\n",
        "\n",
        "def show_samples(target_predicitons_class, texts, predicitons, trues, trues_id_sentiment,\n",
        "                 predictions_id_sentiment, n_samples):\n",
        "  samples_texts = []\n",
        "  samples_labels = []\n",
        "\n",
        "  while len(samples_texts) < n_samples:\n",
        "    pick = np.random.randint(low=0, high=(len(trues)-1))\n",
        "    if predicitons[pick] == target_predicitons_class:\n",
        "      samples_texts.append(texts[pick])\n",
        "      samples_labels.append(trues[pick])\n",
        "\n",
        "  samples_df = pd.DataFrame()\n",
        "  samples_df['Text'] = samples_texts\n",
        "  samples_df['Label Sentiment'] = [trues_id_sentiment[label] for label in samples_labels]\n",
        "  samples_df['Prediction Sentiment'] = [predictions_id_sentiment[target_predicitons_class] for _ in samples_labels]\n",
        "  return samples_df"
      ],
      "execution_count": 0,
      "outputs": []
    },
    {
      "cell_type": "markdown",
      "metadata": {
        "id": "j4-S0OdkkgOr",
        "colab_type": "text"
      },
      "source": [
        "# Data Prep"
      ]
    },
    {
      "cell_type": "markdown",
      "metadata": {
        "id": "Hgk7RgEdXkhJ",
        "colab_type": "text"
      },
      "source": [
        "## Read CSV"
      ]
    },
    {
      "cell_type": "code",
      "metadata": {
        "id": "vddU3fba2oc4",
        "colab_type": "code",
        "outputId": "9648f425-568b-49fe-fa0f-27849ce44ff1",
        "colab": {
          "base_uri": "https://localhost:8080/",
          "height": 196
        }
      },
      "source": [
        "# read reviews from csv file\n",
        "review_sentiments_df = pd.read_csv('imdb_reviews_50k.csv')\n",
        "# get reviews and sentiments\n",
        "reviews_texts, reviews_sentiments = review_sentiments_df['review'].values, review_sentiments_df['sentiment'].values\n",
        "# print first 2 examples\n",
        "review_sentiments_df.head(n=2)"
      ],
      "execution_count": 5,
      "outputs": [
        {
          "output_type": "execute_result",
          "data": {
            "text/html": [
              "<div>\n",
              "<style scoped>\n",
              "    .dataframe tbody tr th:only-of-type {\n",
              "        vertical-align: middle;\n",
              "    }\n",
              "\n",
              "    .dataframe tbody tr th {\n",
              "        vertical-align: top;\n",
              "    }\n",
              "\n",
              "    .dataframe thead th {\n",
              "        text-align: right;\n",
              "    }\n",
              "</style>\n",
              "<table border=\"1\" class=\"dataframe\">\n",
              "  <thead>\n",
              "    <tr style=\"text-align: right;\">\n",
              "      <th></th>\n",
              "      <th>review</th>\n",
              "      <th>sentiment</th>\n",
              "    </tr>\n",
              "  </thead>\n",
              "  <tbody>\n",
              "    <tr>\n",
              "      <th>0</th>\n",
              "      <td>This was an absolutely terrible movie. Don't be lured in by Christopher Walken or Michael Ironside. Both are great actors, but this must simply be their worst role in history. Even their great acting could not redeem this movie's ridiculous storyline. This movie is an early nineties US propaganda piece. The most pathetic scenes were those when the Columbian rebels were making their cases for revolutions. Maria Conchita Alonso appeared phony, and her pseudo-love affair with Walken was nothing but a pathetic emotional plug in a movie that was devoid of any real meaning. I am disappointed that there are movies like this, ruining actor's like Christopher Walken's good name. I could barely sit through it.</td>\n",
              "      <td>0</td>\n",
              "    </tr>\n",
              "    <tr>\n",
              "      <th>1</th>\n",
              "      <td>I have been known to fall asleep during films, but this is usually due to a combination of things including, really tired, being warm and comfortable on the sette and having just eaten a lot. However on this occasion I fell asleep because the film was rubbish. The plot development was constant. Constantly slow and boring. Things seemed to happen, but with no explanation of what was causing them or why. I admit, I may have missed part of the film, but i watched the majority of it and everything just seemed to happen of its own accord without any real concern for anything else. I cant recommend this film at all.</td>\n",
              "      <td>0</td>\n",
              "    </tr>\n",
              "  </tbody>\n",
              "</table>\n",
              "</div>"
            ],
            "text/plain": [
              "                                                                                                                                                                                                                                                                                                                                                                                                                                                                                                                                                                                                                                                                                                                                  review  sentiment\n",
              "0  This was an absolutely terrible movie. Don't be lured in by Christopher Walken or Michael Ironside. Both are great actors, but this must simply be their worst role in history. Even their great acting could not redeem this movie's ridiculous storyline. This movie is an early nineties US propaganda piece. The most pathetic scenes were those when the Columbian rebels were making their cases for revolutions. Maria Conchita Alonso appeared phony, and her pseudo-love affair with Walken was nothing but a pathetic emotional plug in a movie that was devoid of any real meaning. I am disappointed that there are movies like this, ruining actor's like Christopher Walken's good name. I could barely sit through it.  0        \n",
              "1  I have been known to fall asleep during films, but this is usually due to a combination of things including, really tired, being warm and comfortable on the sette and having just eaten a lot. However on this occasion I fell asleep because the film was rubbish. The plot development was constant. Constantly slow and boring. Things seemed to happen, but with no explanation of what was causing them or why. I admit, I may have missed part of the film, but i watched the majority of it and everything just seemed to happen of its own accord without any real concern for anything else. I cant recommend this film at all.                                                                                              0        "
            ]
          },
          "metadata": {
            "tags": []
          },
          "execution_count": 5
        }
      ]
    },
    {
      "cell_type": "markdown",
      "metadata": {
        "id": "3c91k53fQOfd",
        "colab_type": "text"
      },
      "source": [
        "## BERT Embeddings"
      ]
    },
    {
      "cell_type": "code",
      "metadata": {
        "id": "PpOQr1bgxOYF",
        "colab_type": "code",
        "outputId": "e55adf51-dec7-495c-cdf9-de6fcc91e4be",
        "colab": {
          "base_uri": "https://localhost:8080/",
          "height": 35
        }
      },
      "source": [
        "# load for future predicitons\n",
        "embedding_model = SentenceTransformer(model_name_or_path='bert-base-nli-mean-tokens',\n",
        "                                    device=torch.device('cpu'))\n",
        "# load embeddings for all reviews\n",
        "reviews_embeddings_part1 = np.load('movies_reviews_embeddings_part1.npy')\n",
        "reviews_embeddings_part2 = np.load('movies_reviews_embeddings_part2.npy')\n",
        "# concatenate parts\n",
        "reviews_embeddings = np.concatenate((reviews_embeddings_part1, reviews_embeddings_part2))\n",
        "\n",
        "print('Bert Embeddings Loaded: ', reviews_embeddings.shape)"
      ],
      "execution_count": 6,
      "outputs": [
        {
          "output_type": "stream",
          "text": [
            "Bert Embeddings Loaded:  (50000, 768)\n"
          ],
          "name": "stdout"
        }
      ]
    },
    {
      "cell_type": "markdown",
      "metadata": {
        "id": "g_LTAVRc7niE",
        "colab_type": "text"
      },
      "source": [
        "# Simple Neural Network"
      ]
    },
    {
      "cell_type": "markdown",
      "metadata": {
        "id": "7E9mGVKX7sZJ",
        "colab_type": "text"
      },
      "source": [
        "## Config"
      ]
    },
    {
      "cell_type": "code",
      "metadata": {
        "id": "PbCjD_jq7t9w",
        "colab_type": "code",
        "colab": {}
      },
      "source": [
        "EMBEDDING_SIZE = 768\n",
        "BUFFER_SIZE = 1000\n",
        "BATCH = 500\n",
        "EPOCHS = 20"
      ],
      "execution_count": 0,
      "outputs": []
    },
    {
      "cell_type": "markdown",
      "metadata": {
        "id": "oRXiq9zjCm15",
        "colab_type": "text"
      },
      "source": [
        "## Prep Data"
      ]
    },
    {
      "cell_type": "code",
      "metadata": {
        "id": "63h1sogozjMV",
        "colab_type": "code",
        "outputId": "fd122dcb-5caf-48a3-a6de-d1f87d490207",
        "colab": {
          "base_uri": "https://localhost:8080/",
          "height": 71
        }
      },
      "source": [
        "# split train 80% - test 20% \n",
        "embeddings_train, embeddings_test, sentiments_train, sentiments_test = train_test_split(reviews_embeddings, reviews_sentiments, train_size=0.8, shuffle=True, random_state=20)\n",
        "# split train into validation 10%\n",
        "embeddings_train, embeddings_valid, sentiments_train, sentiments_valid = train_test_split(embeddings_train, sentiments_train, train_size=0.9, shuffle=True, random_state=20)\n",
        "# shape (number of examples X sequence length)\n",
        "print('Train shape:     ', embeddings_train.shape)\n",
        "print('Validation shape:', embeddings_valid.shape)\n",
        "print('Test shape:      ', embeddings_test.shape)"
      ],
      "execution_count": 8,
      "outputs": [
        {
          "output_type": "stream",
          "text": [
            "Train shape:      (36000, 768)\n",
            "Validation shape: (4000, 768)\n",
            "Test shape:       (10000, 768)\n"
          ],
          "name": "stdout"
        }
      ]
    },
    {
      "cell_type": "markdown",
      "metadata": {
        "id": "tpXVits87_Qm",
        "colab_type": "text"
      },
      "source": [
        "## Data Generators"
      ]
    },
    {
      "cell_type": "code",
      "metadata": {
        "id": "24tITR-H8AsX",
        "colab_type": "code",
        "colab": {}
      },
      "source": [
        "# train generator\n",
        "train_genrator = tf.data.Dataset.from_tensor_slices((embeddings_train, sentiments_train))\n",
        "# batching generator and shuffle\n",
        "train_batches = train_genrator.batch(BATCH).shuffle(BUFFER_SIZE)\n",
        "# increase speed by overlaping the preprocessing and model execution of a training step\n",
        "train_batches = train_batches.prefetch(tf.data.experimental.AUTOTUNE)\n",
        "\n",
        "# validation generator\n",
        "valid_genrator = tf.data.Dataset.from_tensor_slices((embeddings_valid, sentiments_valid))\n",
        "# batching generator\n",
        "valid_batches = valid_genrator.batch(BATCH)\n",
        "# increase speed by overlaping the preprocessing and model execution of a training step\n",
        "valid_genrator = valid_genrator.prefetch(tf.data.experimental.AUTOTUNE)"
      ],
      "execution_count": 0,
      "outputs": []
    },
    {
      "cell_type": "markdown",
      "metadata": {
        "id": "ojPXi3ay8WZ9",
        "colab_type": "text"
      },
      "source": [
        "## Modeling"
      ]
    },
    {
      "cell_type": "code",
      "metadata": {
        "id": "g0josIG38XUU",
        "colab_type": "code",
        "outputId": "f5f7c3f7-48e6-4943-ca04-bc2b9b5be876",
        "colab": {
          "base_uri": "https://localhost:8080/",
          "height": 1000
        }
      },
      "source": [
        "# build model\n",
        "model = tf.keras.Sequential()\n",
        "model.add(tf.keras.layers.Dense(16, input_shape=(EMBEDDING_SIZE,), activation='elu', name='hidden'))\n",
        "model.add(tf.keras.layers.Dense(1, activation='sigmoid', name='prediction'))\n",
        "# print overview\n",
        "model.summary()\n",
        "\n",
        "model.compile(optimizer='adam',\n",
        "              loss='binary_crossentropy',\n",
        "              metrics=['accuracy'])\n",
        "# train and keep track of history\n",
        "history = model.fit(train_batches,\n",
        "                    epochs=EPOCHS,\n",
        "                    validation_data=valid_batches,\n",
        "                    verbose=1)\n",
        "# plot training curves\n",
        "plt_history(history_dict=history.history)"
      ],
      "execution_count": 10,
      "outputs": [
        {
          "output_type": "stream",
          "text": [
            "Model: \"sequential\"\n",
            "_________________________________________________________________\n",
            "Layer (type)                 Output Shape              Param #   \n",
            "=================================================================\n",
            "hidden (Dense)               (None, 16)                12304     \n",
            "_________________________________________________________________\n",
            "prediction (Dense)           (None, 1)                 17        \n",
            "=================================================================\n",
            "Total params: 12,321\n",
            "Trainable params: 12,321\n",
            "Non-trainable params: 0\n",
            "_________________________________________________________________\n",
            "Train for 72 steps, validate for 8 steps\n",
            "Epoch 1/20\n",
            "72/72 [==============================] - 1s 13ms/step - loss: 0.4712 - accuracy: 0.7710 - val_loss: 0.4242 - val_accuracy: 0.7995\n",
            "Epoch 2/20\n",
            "72/72 [==============================] - 1s 8ms/step - loss: 0.4208 - accuracy: 0.8046 - val_loss: 0.4098 - val_accuracy: 0.8095\n",
            "Epoch 3/20\n",
            "72/72 [==============================] - 1s 7ms/step - loss: 0.4063 - accuracy: 0.8141 - val_loss: 0.4004 - val_accuracy: 0.8198\n",
            "Epoch 4/20\n",
            "72/72 [==============================] - 1s 7ms/step - loss: 0.3979 - accuracy: 0.8176 - val_loss: 0.3921 - val_accuracy: 0.8240\n",
            "Epoch 5/20\n",
            "72/72 [==============================] - 1s 8ms/step - loss: 0.3882 - accuracy: 0.8240 - val_loss: 0.3846 - val_accuracy: 0.8270\n",
            "Epoch 6/20\n",
            "72/72 [==============================] - 1s 7ms/step - loss: 0.3822 - accuracy: 0.8278 - val_loss: 0.3805 - val_accuracy: 0.8300\n",
            "Epoch 7/20\n",
            "72/72 [==============================] - 1s 8ms/step - loss: 0.3775 - accuracy: 0.8291 - val_loss: 0.3765 - val_accuracy: 0.8320\n",
            "Epoch 8/20\n",
            "72/72 [==============================] - 1s 8ms/step - loss: 0.3772 - accuracy: 0.8284 - val_loss: 0.3752 - val_accuracy: 0.8292\n",
            "Epoch 9/20\n",
            "72/72 [==============================] - 1s 7ms/step - loss: 0.3697 - accuracy: 0.8332 - val_loss: 0.3680 - val_accuracy: 0.8330\n",
            "Epoch 10/20\n",
            "72/72 [==============================] - 1s 8ms/step - loss: 0.3645 - accuracy: 0.8359 - val_loss: 0.3669 - val_accuracy: 0.8345\n",
            "Epoch 11/20\n",
            "72/72 [==============================] - 1s 8ms/step - loss: 0.3649 - accuracy: 0.8339 - val_loss: 0.3670 - val_accuracy: 0.8338\n",
            "Epoch 12/20\n",
            "72/72 [==============================] - 1s 7ms/step - loss: 0.3584 - accuracy: 0.8392 - val_loss: 0.3648 - val_accuracy: 0.8357\n",
            "Epoch 13/20\n",
            "72/72 [==============================] - 1s 8ms/step - loss: 0.3554 - accuracy: 0.8415 - val_loss: 0.3608 - val_accuracy: 0.8382\n",
            "Epoch 14/20\n",
            "72/72 [==============================] - 1s 7ms/step - loss: 0.3564 - accuracy: 0.8401 - val_loss: 0.3661 - val_accuracy: 0.8335\n",
            "Epoch 15/20\n",
            "72/72 [==============================] - 1s 7ms/step - loss: 0.3518 - accuracy: 0.8425 - val_loss: 0.3568 - val_accuracy: 0.8378\n",
            "Epoch 16/20\n",
            "72/72 [==============================] - 1s 7ms/step - loss: 0.3488 - accuracy: 0.8446 - val_loss: 0.3547 - val_accuracy: 0.8388\n",
            "Epoch 17/20\n",
            "72/72 [==============================] - 1s 7ms/step - loss: 0.3474 - accuracy: 0.8451 - val_loss: 0.3541 - val_accuracy: 0.8372\n",
            "Epoch 18/20\n",
            "72/72 [==============================] - 1s 8ms/step - loss: 0.3484 - accuracy: 0.8431 - val_loss: 0.3538 - val_accuracy: 0.8378\n",
            "Epoch 19/20\n",
            "72/72 [==============================] - 1s 8ms/step - loss: 0.3454 - accuracy: 0.8453 - val_loss: 0.3532 - val_accuracy: 0.8403\n",
            "Epoch 20/20\n",
            "72/72 [==============================] - 1s 7ms/step - loss: 0.3419 - accuracy: 0.8468 - val_loss: 0.3566 - val_accuracy: 0.8375\n"
          ],
          "name": "stdout"
        },
        {
          "output_type": "display_data",
          "data": {
            "image/png": "[encoded data removed]",
            "text/plain": [
              "<Figure size 1080x360 with 2 Axes>"
            ]
          },
          "metadata": {
            "tags": []
          }
        }
      ]
    },
    {
      "cell_type": "markdown",
      "metadata": {
        "id": "T_uGV6ud9Xeg",
        "colab_type": "text"
      },
      "source": [
        "## Evaluation"
      ]
    },
    {
      "cell_type": "code",
      "metadata": {
        "id": "H0h7CwtD9YoU",
        "colab_type": "code",
        "outputId": "cb18740a-15d3-4610-f07b-8f030e18d56a",
        "colab": {
          "base_uri": "https://localhost:8080/",
          "height": 179
        }
      },
      "source": [
        "# get model predicitons\n",
        "sentiments_predicitons = model.predict_classes(embeddings_test)\n",
        "# print evaluation report\n",
        "print(classification_report(y_true=sentiments_test, y_pred=sentiments_predicitons))"
      ],
      "execution_count": 11,
      "outputs": [
        {
          "output_type": "stream",
          "text": [
            "              precision    recall  f1-score   support\n",
            "\n",
            "           0       0.80      0.86      0.83      4948\n",
            "           1       0.85      0.79      0.82      5052\n",
            "\n",
            "    accuracy                           0.83     10000\n",
            "   macro avg       0.83      0.83      0.83     10000\n",
            "weighted avg       0.83      0.83      0.83     10000\n",
            "\n"
          ],
          "name": "stdout"
        }
      ]
    },
    {
      "cell_type": "markdown",
      "metadata": {
        "id": "t-hS3BNF91s0",
        "colab_type": "text"
      },
      "source": [
        "## Explain Model"
      ]
    },
    {
      "cell_type": "code",
      "metadata": {
        "id": "Pcr5uD7c96dj",
        "colab_type": "code",
        "outputId": "4c1e8fc0-06ba-414e-bdc8-aa0783779bdd",
        "colab": {
          "base_uri": "https://localhost:8080/",
          "height": 71
        }
      },
      "source": [
        "example_sample = 'This movie was great! I loved it!'\n",
        "\n",
        "# explain model prediciton\n",
        "def classifier_dn(texts):\n",
        "  '''Takes as input list of stirngs.\n",
        "  Outputs numpy array of porbabilities\n",
        "  '''\n",
        "  probab = []\n",
        "  encodings_texts = embedding_model.encode(sentences=texts, \n",
        "                                          batch_size=500, \n",
        "                                          show_progress_bar=True)\n",
        "  encodings_texts = np.array(encodings_texts)\n",
        "  for encoding_text in encodings_texts:\n",
        "    preds = model(encoding_text.reshape(1,768))[0][0]\n",
        "    probab.append([(1-preds), preds])\n",
        "  return np.array(probab)\n",
        "\n",
        "# create explainer\n",
        "explainer = LimeTextExplainer(class_names=list(ID_SENTIMENT.values()))\n",
        "exp = explainer.explain_instance(example_sample,  classifier_dn, num_features=EMBEDDING_SIZE)\n",
        "# output to cell\n",
        "exp.show_in_notebook(text=True)"
      ],
      "execution_count": 0,
      "outputs": [
        {
          "output_type": "stream",
          "text": [
            "/usr/local/lib/python3.6/dist-packages/lime/lime_text.py:116: FutureWarning: split() requires a non-empty pattern match.\n",
            "  self.as_list = [s for s in splitter.split(self.raw) if s]\n",
            "Batches:  70%|███████   | 7/10 [01:15<00:35, 11.74s/it]"
          ],
          "name": "stderr"
        }
      ]
    },
    {
      "cell_type": "markdown",
      "metadata": {
        "id": "1R2NBokWGEuq",
        "colab_type": "text"
      },
      "source": [
        "# Find Best K-means"
      ]
    },
    {
      "cell_type": "code",
      "metadata": {
        "id": "NJbbKEMjAZSw",
        "colab_type": "code",
        "colab": {}
      },
      "source": [
        "# maximum number of clusters to use\n",
        "max_n_cluster = 10"
      ],
      "execution_count": 0,
      "outputs": []
    },
    {
      "cell_type": "markdown",
      "metadata": {
        "id": "FMKimWG6QnZ_",
        "colab_type": "text"
      },
      "source": [
        "## Elbow Method\n",
        "* Distortion is defined as the sum of the squared distances between each observation vector and its dominating centroid.\n",
        "* Find out more about [inertia/distortion](https://scikit-learn.org/stable/modules/clustering.html#k-means)"
      ]
    },
    {
      "cell_type": "code",
      "metadata": {
        "id": "ZwEHFDb_Qg2-",
        "colab_type": "code",
        "colab": {}
      },
      "source": [
        "def best_kmeans_elbow(features, n_clusters, verbose=False, show=False):\n",
        "  # list of clusters\n",
        "  clusters = list(range(2, n_clusters))\n",
        "  # store all distortions\n",
        "  distortions = []\n",
        "  # apply kmeans for each cluster values\n",
        "  for n_clusters in clusters:\n",
        "    # Initialize the clusterer with n_clusters value and a random generator\n",
        "    kmean_model = KMeans(n_clusters=n_clusters)\n",
        "    kmean_model.fit(features)\n",
        "    # get distortions\n",
        "    distortion = kmean_model.inertia_\n",
        "    distortions.append(distortion)\n",
        "    # print output\n",
        "    if verbose: print(\"For n_clusters =\", n_clusters, \"Distortion is :\", distortion)\n",
        "  # locate knee\n",
        "  kn = KneeLocator(clusters, distortions, curve='convex', direction='decreasing')\n",
        "  best_k = int(kn.knee)\n",
        "  # plot\n",
        "  sns.set_style(\"whitegrid\")\n",
        "  plot = sns.lineplot(clusters, \n",
        "                      distortions,\n",
        "                      color=\"coral\", \n",
        "                      label=\"Distortions\")\n",
        "  plot.set(xlabel='k', ylabel='Distortions')\n",
        "  plot.set_title('Using Elbow method for best k')\n",
        "  plot.axvline(x=best_k)\n",
        "  if show: plt.show()\n",
        "  fig = plot.get_figure()\n",
        "  fig.savefig(\"elbow_distortions.png\")\n",
        "  return\n",
        "\n",
        "# run function\n",
        "best_kmeans_elbow(features=reviews_embeddings, \n",
        "                  n_clusters=max_n_cluster, \n",
        "                  verbose=True)"
      ],
      "execution_count": 0,
      "outputs": []
    },
    {
      "cell_type": "markdown",
      "metadata": {
        "id": "sOVjH-8gYbOq",
        "colab_type": "text"
      },
      "source": [
        "## Silhouette Method [time consuming]\n",
        "\n",
        "* The Silhouette Coefficient is calculated using the mean intra-cluster distance (a) and the mean nearest-cluster distance (b) for each sample. More info [here](https://scikit-learn.org/stable/modules/generated/sklearn.metrics.silhouette_score.html)"
      ]
    },
    {
      "cell_type": "code",
      "metadata": {
        "id": "O9AJUwUxYbyI",
        "colab_type": "code",
        "colab": {}
      },
      "source": [
        "def best_kmeans_silhouette(features, n_clusters):\n",
        "  # get list of clusters  \n",
        "  clusters = list(range(2, n_clusters))\n",
        "  # store all silhouttes values\n",
        "  silhouettes = []\n",
        "  # run k-means for each cluter\n",
        "  for n_clusters in clusters:\n",
        "    # Initialize the clusterer with n_clusters value and a random generator\n",
        "    kmean_model = KMeans(n_clusters=n_clusters)\n",
        "    kmean_model.fit(np.array(features))\n",
        "    # get labels predicted\n",
        "    cluster_labels = kmean_model.predict(features)\n",
        "    # The silhouette_score gives the average value for all the samples.\n",
        "    # This gives a perspective into the density and separation of the formed\n",
        "    # clusters\n",
        "    silhouette_avg = silhouette_score(features, cluster_labels)\n",
        "    silhouettes.append(silhouette_avg)\n",
        "    print(\"For n_clusters =\", n_clusters,\n",
        "          \"The average silhouette_score is :\", silhouette_avg)\n",
        "  # find best k\n",
        "  best_k = clusters[silhouettes.index(max(silhouettes))]\n",
        "  # plot\n",
        "  sns.set_style(\"whitegrid\")\n",
        "  plot = sns.lineplot(clusters, \n",
        "                      silhouettes,\n",
        "                      color=\"coral\", \n",
        "                      label=\"Silhouette Average Score\")\n",
        "  plot.set(xlabel='k', ylabel='Silhouette Average Score')\n",
        "  plot.set_title('Silhouette Average Score for each cluster k')\n",
        "  plot.axvline(x=best_k)\n",
        "  fig = plot.get_figure()\n",
        "  fig.savefig(\"silhouette_avg.png\")\n",
        "  return\n",
        "\n",
        "# run fucntion\n",
        "best_kmeans_silhouette(features=reviews_embeddings, \n",
        "                       n_clusters=max_n_cluster)"
      ],
      "execution_count": 0,
      "outputs": []
    },
    {
      "cell_type": "markdown",
      "metadata": {
        "id": "_0rCdkDawrLX",
        "colab_type": "text"
      },
      "source": [
        "# Run Best k-means model"
      ]
    },
    {
      "cell_type": "code",
      "metadata": {
        "id": "w86nK3srwuD6",
        "colab_type": "code",
        "colab": {}
      },
      "source": [
        "# pick best k based on previous experiments\n",
        "best_k = 2\n",
        "# build model using specific k\n",
        "kmean_model = KMeans(n_clusters=best_k)\n",
        "# fit model to data\n",
        "kmean_model.fit(reviews_embeddings)\n",
        "# get predicted labels\n",
        "best_kmeans_labels = kmean_model.labels_"
      ],
      "execution_count": 0,
      "outputs": []
    },
    {
      "cell_type": "markdown",
      "metadata": {
        "id": "2fWaH9fzvFuC",
        "colab_type": "text"
      },
      "source": [
        "## PCA Visualize"
      ]
    },
    {
      "cell_type": "code",
      "metadata": {
        "id": "zr78qy3lA2LC",
        "colab_type": "code",
        "colab": {}
      },
      "source": [
        "def pca_reduction(features, labels_values, n_components, random_state=20, \n",
        "                  label_decoder=None, title='PCA Plot', magnify=2):\n",
        "  pca_cuml = PCA(n_components=n_components,\n",
        "                   random_state=random_state)\n",
        "  reduced_features = pca_cuml.fit_transform(features)\n",
        "\n",
        "  # plot\n",
        "  if (n_components==2) and (labels_values is not None):\n",
        "    # create data frame\n",
        "    reduced_features_df = pd.DataFrame()\n",
        "    reduced_features_df['x'] = [float(value) for value in reduced_features[:,0]]\n",
        "    reduced_features_df['y'] = [float(value) for value in reduced_features[:,1]]\n",
        "    if label_decoder is not None:\n",
        "      reduced_features_df['clusters'] = [label_decoder[int(value)] for value in labels_values]\n",
        "    else:\n",
        "      reduced_features_df['clusters'] = [int(value) for value in labels_values]\n",
        "    #plot data with seaborn\n",
        "    cluster_plot = sns.lmplot(data=reduced_features_df, x='x', y='y', hue='clusters', fit_reg=False, legend=True, legend_out=True)\n",
        "    plt.title(title)\n",
        "    fig = plt.gcf()\n",
        "    figsize = fig.get_size_inches()\n",
        "    fig.set_size_inches(figsize * magnify)\n",
        "    plt.show()\n",
        "    cluster_plot.savefig(\"pca_plot.png\")\n",
        "  return reduced_features"
      ],
      "execution_count": 0,
      "outputs": []
    },
    {
      "cell_type": "code",
      "metadata": {
        "id": "9p4Nm1xMvJMu",
        "colab_type": "code",
        "colab": {}
      },
      "source": [
        "reduced_features = pca_reduction(features=reviews_embeddings, \n",
        "                                 labels_values=best_kmeans_labels, \n",
        "                                 n_components=2, \n",
        "                                 label_decoder=None,\n",
        "                                 title='Kmeans Predictions')\n",
        "print('\\n')\n",
        "reduced_features = pca_reduction(features=reviews_embeddings, \n",
        "                                 labels_values=reviews_sentiments, \n",
        "                                 n_components=2, \n",
        "                                 label_decoder=ID_SENTIMENT,\n",
        "                                 title='True Labels')\n",
        "\n",
        "print('\\n')\n",
        "matching_df = predictions_overlap(model_predicitons=best_kmeans_labels, \n",
        "                                  true_predicitons=reviews_sentiments,\n",
        "                                  label_decoder=ID_SENTIMENT)\n",
        "matching_df.head()"
      ],
      "execution_count": 0,
      "outputs": []
    },
    {
      "cell_type": "markdown",
      "metadata": {
        "id": "RZkqjehHoYeK",
        "colab_type": "text"
      },
      "source": [
        "# K Means Sentiments"
      ]
    },
    {
      "cell_type": "markdown",
      "metadata": {
        "id": "DdxzeUpYAm8n",
        "colab_type": "text"
      },
      "source": [
        "## k=3 sentiments"
      ]
    },
    {
      "cell_type": "code",
      "metadata": {
        "id": "peQwJch_Aw3e",
        "colab_type": "code",
        "colab": {}
      },
      "source": [
        "k_sentiments = 3\n",
        "# build model using specific k\n",
        "kmean_model = KMeans(n_clusters=k_sentiments)\n",
        "# fit model to data\n",
        "kmean_model.fit(reviews_embeddings)\n",
        "# get predicted labels\n",
        "kmeans_labels = kmean_model.labels_"
      ],
      "execution_count": 0,
      "outputs": []
    },
    {
      "cell_type": "markdown",
      "metadata": {
        "id": "MR2l-yc91pvq",
        "colab_type": "text"
      },
      "source": [
        "### Find Labels"
      ]
    },
    {
      "cell_type": "code",
      "metadata": {
        "id": "Lcqw-2C_1sGu",
        "colab_type": "code",
        "colab": {}
      },
      "source": [
        "matching_df = predictions_overlap(model_predicitons=kmeans_labels, \n",
        "                                  true_predicitons=reviews_sentiments,\n",
        "                                  label_decoder=ID_SENTIMENT)\n",
        "matching_df.head()"
      ],
      "execution_count": 0,
      "outputs": []
    },
    {
      "cell_type": "code",
      "metadata": {
        "id": "tL7I67JOIzO_",
        "colab_type": "code",
        "colab": {}
      },
      "source": [
        "clusters_words_plot(texts=reviews_texts, \n",
        "                    labels=kmeans_labels, \n",
        "                    n_sentiments=k_sentiments, \n",
        "                    pos_tag=None,\n",
        "                    top_clip=1,\n",
        "                    low_clip=50,\n",
        "                    stop_words=stopwords.words('english'), \n",
        "                    magnify=3)"
      ],
      "execution_count": 0,
      "outputs": []
    },
    {
      "cell_type": "markdown",
      "metadata": {
        "id": "lsZFvLhC1smD",
        "colab_type": "text"
      },
      "source": [
        "### Visualize"
      ]
    },
    {
      "cell_type": "code",
      "metadata": {
        "id": "YP9ezoPqot3-",
        "colab_type": "code",
        "colab": {}
      },
      "source": [
        "kmeans_id_sentiment = {0:'Neutral',\n",
        "                        1:'Positive',\n",
        "                        2:'Negative'}\n",
        "\n",
        "reduced_features = pca_reduction(features=np.array(reviews_embeddings), \n",
        "                                 labels_values=kmeans_labels, \n",
        "                                 n_components=2, \n",
        "                                 label_decoder=kmeans_id_sentiment,\n",
        "                                 title='Kmeans Predictions')\n",
        "print('\\n')\n",
        "reduced_features = pca_reduction(features=np.array(reviews_embeddings), \n",
        "                                 labels_values=reviews_sentiments, \n",
        "                                 n_components=2, \n",
        "                                 label_decoder=ID_SENTIMENT,\n",
        "                                 title='True Labels')\n"
      ],
      "execution_count": 0,
      "outputs": []
    },
    {
      "cell_type": "markdown",
      "metadata": {
        "id": "ERbBxoBn27dd",
        "colab_type": "text"
      },
      "source": [
        "### Samples"
      ]
    },
    {
      "cell_type": "code",
      "metadata": {
        "id": "4SfLu_g-4u6D",
        "colab_type": "code",
        "colab": {}
      },
      "source": [
        "samples_df = show_samples(target_predicitons_class=0, \n",
        "                          texts=reviews_texts,\n",
        "                          trues=reviews_sentiments, \n",
        "                          trues_id_sentiment=ID_SENTIMENT,\n",
        "                          predicitons=kmeans_labels,\n",
        "                          predictions_id_sentiment=kmeans_id_sentiment,\n",
        "                          n_samples=3)\n",
        "samples_df"
      ],
      "execution_count": 0,
      "outputs": []
    },
    {
      "cell_type": "markdown",
      "metadata": {
        "id": "Hfs0leziA6Lk",
        "colab_type": "text"
      },
      "source": [
        "## k=4 sentiments"
      ]
    },
    {
      "cell_type": "code",
      "metadata": {
        "id": "QoUOZSrnA9NU",
        "colab_type": "code",
        "colab": {}
      },
      "source": [
        "k_sentiments = 4\n",
        "# build model using specific k\n",
        "kmean_model = KMeans(n_clusters=k_sentiments)\n",
        "# fit model to data\n",
        "kmean_model.fit(reviews_embeddings)\n",
        "# get predicted labels\n",
        "kmeans_labels = kmean_model.labels_"
      ],
      "execution_count": 0,
      "outputs": []
    },
    {
      "cell_type": "markdown",
      "metadata": {
        "id": "ZUq2kzy5BF4I",
        "colab_type": "text"
      },
      "source": [
        "### Find Labels"
      ]
    },
    {
      "cell_type": "code",
      "metadata": {
        "id": "yYPGnW92BHMM",
        "colab_type": "code",
        "colab": {}
      },
      "source": [
        "matching_df = predictions_overlap(model_predicitons=kmeans_labels, \n",
        "                                  true_predicitons=reviews_sentiments,\n",
        "                                  label_decoder=ID_SENTIMENT)\n",
        "matching_df.head()"
      ],
      "execution_count": 0,
      "outputs": []
    },
    {
      "cell_type": "code",
      "metadata": {
        "id": "Yrywy1iqL1dG",
        "colab_type": "code",
        "colab": {}
      },
      "source": [
        "clusters_words_plot(texts=reviews_texts, \n",
        "                    labels=kmeans_labels, \n",
        "                    n_sentiments=k_sentiments, \n",
        "                    pos_tag=None,\n",
        "                    top_clip=1,\n",
        "                    low_clip=50,\n",
        "                    stop_words=stopwords.words('english'), \n",
        "                    magnify=3)"
      ],
      "execution_count": 0,
      "outputs": []
    },
    {
      "cell_type": "markdown",
      "metadata": {
        "id": "Qkyra1UwBA1w",
        "colab_type": "text"
      },
      "source": [
        "### Visualize"
      ]
    },
    {
      "cell_type": "code",
      "metadata": {
        "id": "gn8razlrBCjU",
        "colab_type": "code",
        "colab": {}
      },
      "source": [
        "kmeans_id_sentiment = {0:'Neutral',\n",
        "                        1:'Positive',\n",
        "                        2:'Negative',\n",
        "                       3:'Kinda Positive'}\n",
        "\n",
        "reduced_features = pca_reduction(features=np.array(reviews_embeddings), \n",
        "                                 labels_values=kmeans_labels, \n",
        "                                 n_components=2, \n",
        "                                 label_decoder=kmeans_id_sentiment,\n",
        "                                 title='Kmeans Predictions')\n",
        "print('\\n')\n",
        "reduced_features = pca_reduction(features=np.array(reviews_embeddings), \n",
        "                                 labels_values=reviews_sentiments, \n",
        "                                 n_components=2, \n",
        "                                 label_decoder=ID_SENTIMENT,\n",
        "                                 title='True Labels')\n"
      ],
      "execution_count": 0,
      "outputs": []
    },
    {
      "cell_type": "markdown",
      "metadata": {
        "id": "ssr3C8eLBCzV",
        "colab_type": "text"
      },
      "source": [
        "### Samples"
      ]
    },
    {
      "cell_type": "code",
      "metadata": {
        "id": "hhq6Mf-xBFUk",
        "colab_type": "code",
        "colab": {}
      },
      "source": [
        "samples_df = show_samples(target_predicitons_class=0, \n",
        "                          texts=reviews_texts,\n",
        "                        trues=reviews_sentiments, \n",
        "                        trues_id_sentiment=ID_SENTIMENT,\n",
        "                          predicitons=kmeans_labels,\n",
        "                        predictions_id_sentiment=kmeans_id_sentiment,\n",
        "                          n_samples=3)\n",
        "samples_df"
      ],
      "execution_count": 0,
      "outputs": []
    },
    {
      "cell_type": "markdown",
      "metadata": {
        "id": "mvmoD2g3HJm-",
        "colab_type": "text"
      },
      "source": [
        "# Custom Samples"
      ]
    },
    {
      "cell_type": "code",
      "metadata": {
        "id": "Pa6urz1XGrnP",
        "colab_type": "code",
        "colab": {}
      },
      "source": [
        "custom_text = \"This workshop roks!!\"\n",
        "\n",
        "encodings_texts = embedding_model.encode(sentences=[custom_text], \n",
        "                                          batch_size=1, \n",
        "                                          show_progress_bar=True)\n",
        "encodings_texts = np.array(encodings_texts)\n",
        "kmean_label = kmean_model.predict(tf.get_static_value(encodings_texts))[0]\n",
        "\n",
        "print('Text: ',custom_text)\n",
        "print('Sentiment: ', kmeans_id_sentiment[kmean_label])"
      ],
      "execution_count": 0,
      "outputs": []
    }
  ]
}